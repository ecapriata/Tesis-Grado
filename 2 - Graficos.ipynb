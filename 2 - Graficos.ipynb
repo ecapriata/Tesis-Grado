{
 "cells": [
  {
   "cell_type": "markdown",
   "metadata": {},
   "source": [
    "# Tesis de grado\n",
    "### Estefanía Elizabeth Capriata\n",
    "### Universidad de San Andrés"
   ]
  },
  {
   "cell_type": "code",
   "execution_count": null,
   "metadata": {},
   "outputs": [],
   "source": [
    "# We import the packages that we are going to use\n",
    "import numpy as np\n",
    "import pandas as pd\n",
    "import plotly.express as px"
   ]
  },
  {
   "cell_type": "code",
   "execution_count": null,
   "metadata": {},
   "outputs": [],
   "source": [
    "# The database we assembled in the first part of the Stata do is the first part of this work, which contains information on enrollees and repeaters.\n",
    "# Now, we will try to join both databases from the ID of the schools.\n",
    "df = pd.read_stata(\"datosmatyrep.dta\")"
   ]
  },
  {
   "cell_type": "code",
   "execution_count": null,
   "metadata": {},
   "outputs": [],
   "source": [
    "# As an example, we will perform all the steps with the 2015 database containing the information of the beneficiaries of the free food programs.\n",
    "# We first identify the schools that are found in both databases (the one containing beneficiary information and the one containing enrollment and repetition information).\n",
    "ID_2015 = pd.read_excel(\"ID_beneficiarios_trayectoria.xlsx\", sheet_name=\"2015+\")"
   ]
  },
  {
   "cell_type": "code",
   "execution_count": null,
   "metadata": {},
   "outputs": [],
   "source": [
    "# In this step we make a merge between the database that contains the IDs that are in both databases and our dataframe that contains the enrolled and repeaters.\n",
    "m2015 = pd.merge(ID_2015, df, on=\"ID1\", how='inner')"
   ]
  },
  {
   "cell_type": "code",
   "execution_count": null,
   "metadata": {},
   "outputs": [],
   "source": [
    "# We do the same with the database containing the beneficiaries' information.\n",
    "merged2015 = pd.merge(ID_2015, df_beneficiarios, on=\"ID1\", how='inner')"
   ]
  },
  {
   "cell_type": "code",
   "execution_count": null,
   "metadata": {},
   "outputs": [],
   "source": [
    "# Finally we join both databases from these columns that they share\n",
    "datos2015 = pd.merge(merged2015, m2015, on=[\"ID1\", \"Provincia\", \"Sector\", \"year\"], how='outer')"
   ]
  },
  {
   "cell_type": "code",
   "execution_count": null,
   "metadata": {},
   "outputs": [],
   "source": [
    "# But we will only keep those schools that do not have missing values in the columns that give information on the number of children who are beneficiaries and receive any of the 5 meals.\n",
    "datos2015 = datos2015.dropna(subset=['Desayuno', 'Almuerzo', 'Refrigerio', 'Merienda', 'Cena', 'Ámbito'], how='all')"
   ]
  },
  {
   "cell_type": "code",
   "execution_count": null,
   "metadata": {},
   "outputs": [],
   "source": [
    "# Finally we save it as csv\n",
    "m2015.to_csv('y_2015.csv', index=False)"
   ]
  },
  {
   "cell_type": "code",
   "execution_count": null,
   "metadata": {},
   "outputs": [],
   "source": [
    "# Then, we do the same for the rest of the years. Taking into account that from 2011 to 2013 there is no 'Snack' column.\n",
    "# This would be the scheme for each year\n",
    "\n",
    "ID_2016 = pd.read_excel(\"ID_beneficiarios_trayectoria.xlsx\", sheet_name=\"2016+\")\n",
    "m2016 = pd.merge(ID_2016, df, on=\"ID1\", how='inner')\n",
    "merged2016 = pd.merge(ID_2016, df_beneficiarios, on=\"ID1\", how='inner')\n",
    "datos2016 = pd.merge(merged2016, m2016, on=[\"ID1\", \"Provincia\", \"Sector\", \"year\"], how='outer')\n",
    "datos2016 = datos2016.dropna(subset=['Desayuno', 'Almuerzo', 'Refrigerio', 'Merienda', 'Cena', 'Ámbito'], how='all')\n",
    "m2016.to_csv('y_2016.csv', index=False)\n",
    "\n",
    "# Without forgetting the control group\n",
    "ID_controles = pd.read_excel(\"ID_beneficiarios_trayectoria.xlsx\", sheet_name=\"Controles\")\n",
    "mcontroles = pd.merge(ID_controles, df, on=\"ID1\", how='inner')\n",
    "mergedcontroles = pd.merge(ID_controles, df_beneficiarios, on=\"ID1\", how='inner')\n",
    "datoscontroles = pd.merge(mergedcontroles, mcontroles, on=[\"ID1\", \"Provincia\", \"Sector\", \"year\"], how='outer')\n",
    "datoscontroles = datoscontroles.dropna(subset=['Desayuno', 'Almuerzo', 'Refrigerio', 'Merienda', 'Cena', 'Ámbito'], how='all')\n",
    "# datoscontroles = pd.get_dummies(datoscontroles, columns=['Provincia', 'Sector', 'Ambito'])\n",
    "mcontroles.to_csv('y_controles.csv', index=False)"
   ]
  },
  {
   "cell_type": "code",
   "execution_count": null,
   "metadata": {},
   "outputs": [],
   "source": [
    "# Finally we join all the databases\n",
    "# As an example\n",
    "\n",
    "frames9 = [datos2019, datoscontroles]\n",
    "d2019cc = pd.concat(frames9)\n",
    "d2019cc.to_csv('d2019cc.csv', index=False)"
   ]
  },
  {
   "cell_type": "code",
   "execution_count": null,
   "metadata": {},
   "outputs": [],
   "source": [
    "# Finally we make concat for all the databases\n",
    "framestotal = [datoscontroles, datos2012, datos2013, datos2014, datos2015, datos2016, datos2017, datos2018, datos2019]\n",
    "totalgrupos = pd.concat(framestotal)\n",
    "\n",
    "# And save in csv\n",
    "totalgrupos.to_csv('totalgrupos.csv', index=False)"
   ]
  },
  {
   "cell_type": "code",
   "execution_count": null,
   "metadata": {},
   "outputs": [],
   "source": [
    "# Enrollment graph\n",
    "\n",
    "fig1 = px.bar(datos2015, x=\"year\", y=\"matriculados_total\", color=\"Provincia\", color_continuous_scale='Oryel', \n",
    "                title=\"Cantidad de matriculados por escuela, año y provincia\", \n",
    "                labels={\"year\": \"Año\", \"matriculados_total\": \"Total de Matriculados\"\n",
    "                 },\n",
    "                category_orders={ # replaces default order by column name\n",
    "                \"year\": [\"2011\", \"2012\", \"2013\", \"2014\", \"2015\", \"2016\", \"2017\", \"2018\", \"2019\"]\n",
    "                 })\n",
    "fig1.show()\n",
    "fig1.write_image(\"C:/Users/estef/Desktop/Tesis/Tesis-Licenciatura/Matrícula y Secciones/MatriculadosTotales2015.png\")"
   ]
  },
  {
   "cell_type": "code",
   "execution_count": null,
   "metadata": {},
   "outputs": [],
   "source": [
    "# Graph of repeaters\n",
    "\n",
    "fig1b = px.bar(datos2015, x=\"year\", y=\"repitentes_total\", color=\"Provincia\", color_continuous_scale='Oryel', \n",
    "                title=\"Cantidad de repitentes por escuela, año y provincia\", \n",
    "                labels={\"year\": \"Año\", \"repitentes_total\": \"Total de Repitentes\"\n",
    "                 },\n",
    "                category_orders={ # replaces default order by column name\n",
    "                \"year\": [\"2011\", \"2012\", \"2013\", \"2014\", \"2015\", \"2016\", \"2017\", \"2018\", \"2019\"]\n",
    "                 })\n",
    "fig1b.show()\n",
    "fig1b.write_image(\"C:/Users/estef/Desktop/Tesis/Tesis-Licenciatura/Matrícula y Secciones/RepitentesTotales2015.png\")"
   ]
  }
 ],
 "metadata": {
  "kernelspec": {
   "display_name": "Python 3.9.5 64-bit",
   "language": "python",
   "name": "python3"
  },
  "language_info": {
   "codemirror_mode": {
    "name": "ipython",
    "version": 3
   },
   "file_extension": ".py",
   "mimetype": "text/x-python",
   "name": "python",
   "nbconvert_exporter": "python",
   "pygments_lexer": "ipython3",
   "version": "3.9.5"
  },
  "orig_nbformat": 4,
  "vscode": {
   "interpreter": {
    "hash": "9fc60a1a7d80b86d6d56291b635a481a23b7dc0f4173f3378d0b93cb49e32990"
   }
  }
 },
 "nbformat": 4,
 "nbformat_minor": 2
}
